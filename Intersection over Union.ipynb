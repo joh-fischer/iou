{
 "cells": [
  {
   "cell_type": "markdown",
   "id": "c86e7860",
   "metadata": {},
   "source": [
    "# Intersection over Union\n",
    "**Author**: Johannes S. Fischer\n",
    "\n",
    "When training an object detection mode, you have surely stumbled across the *Intersection over Union*, in short **IoU**. In this short post, I will describe what it is and how to implement it in native Python. Furthermore, I will describe the implementation in Tensorflow Vector Operations, so that it can be efficiently used for measuring the accuracy of an object detection model."
   ]
  },
  {
   "cell_type": "code",
   "execution_count": 1,
   "id": "521244ff",
   "metadata": {},
   "outputs": [],
   "source": [
    "import numpy as np\n",
    "import matplotlib.pyplot as plt\n",
    "import tensorflow as tf\n",
    "import cv2\n",
    "import time\n",
    "\n",
    "def computeIoU(bbox1, bbox2):\n",
    "    (x1, y1, w1, h1) = bbox1\n",
    "    (x2, y2, w2, h2) = bbox2\n",
    "    \n",
    "    # Firstly, we calculate the areas of each box\n",
    "    # by multiplying its height with its width.\n",
    "    area1 = w1 * h1\n",
    "    area2 = w2 * h2\n",
    "    \n",
    "    # Secondly, we determine the intersection\n",
    "    # rectangle. For that, we try to find the\n",
    "    # corner points (top-left and bottom-right)\n",
    "    # of the intersection rectangle.\n",
    "    inter_x1 = max(x1, x2)\n",
    "    inter_y1 = max(y1, y2)\n",
    "    inter_x2 = min(x1 + w1, x2 + w2)\n",
    "    inter_y2 = min(y1 + h1, y2 + h2)\n",
    "    \n",
    "    # From the two corner points we compute the\n",
    "    # width and height.\n",
    "    inter_w = max(0, inter_x2 - inter_x1) \n",
    "    inter_h = max(0, inter_y2 - inter_y1)\n",
    "        \n",
    "    # If the width or height are equal or less than zero\n",
    "    # the boxes do not overlap. Hence, the IoU equals 0.\n",
    "    if inter_w <= 0 or inter_h <= 0:\n",
    "        return 0.0\n",
    "    # Otherwise, return the IoU (intersection area divided\n",
    "    # by the union)\n",
    "    else:\n",
    "        inter_area = inter_w * inter_h\n",
    "        return inter_area / float(area1 + area2 - inter_area)"
   ]
  },
  {
   "cell_type": "markdown",
   "id": "eafe9a52",
   "metadata": {},
   "source": [
    "## What is the IoU?\n",
    "\n",
    "The IoU is a metric for measuring the accuracy of an object detection model. Imagine you have two bounding boxes, one predicted bounding box and one ground truth bounding box, and you want some indication of how good the prediction is. That's where the Intersection over Union comes into place. \n",
    "\n",
    "Shortly described: The Intersection over Union measures the overlap between the two bounding boxes. A resulting value of 1 indicates perfect prediction, while lower values suggest a poor prediction accuracy.\n",
    "\n",
    "The figure below shows two bounding boxes (green and blue). In the beginning there is no overlap, hence, the Intersection over Union equals 0 (bad prediction). But as the overlap increases, also the IoU increases, until the IoU is 1 for two bounding boxes that are congruent (perfect prediction)."
   ]
  },
  {
   "cell_type": "code",
   "execution_count": 2,
   "id": "2a1b3609",
   "metadata": {},
   "outputs": [
    {
     "data": {
      "image/png": "[encoded data removed]",
      "text/plain": [
       "<Figure size 3600x1440 with 4 Axes>"
      ]
     },
     "metadata": {
      "needs_background": "light"
     },
     "output_type": "display_data"
    }
   ],
   "source": [
    "plt.figure(figsize=(50,20))\n",
    "\n",
    "x1s = [15, 25, 30, 35]\n",
    "x2s = [55, 45, 40, 35]\n",
    "for i in range(4):\n",
    "    img = np.ones((50, 100, 3), dtype=\"uint8\")\n",
    "    # rect 1\n",
    "    x1, y1, w1, h1 = x1s[i], 10, 30, 30\n",
    "    # rect 2\n",
    "    x2, y2, w2, h2 = x2s[i], 10, 30, 30\n",
    "    # intersection\n",
    "    inter_x1 = max(x1, x2); inter_y1 = max(y1, y2)\n",
    "    inter_x2 = min(x1 + w1, x2 + w2); inter_y2 = min(y1 + h1, y2 + h2)\n",
    "    inter_w = max(0, inter_x2 - inter_x1) \n",
    "    inter_h = max(0, inter_y2 - inter_y1)\n",
    "    if inter_w * inter_h > 0:\n",
    "        cv2.rectangle(img, (inter_x1,inter_y1), (inter_x2-1, inter_y2-1), (255, 0, 0), -1)\n",
    "    \n",
    "    cv2.rectangle(img, (x2,y2), (x2+w2,y2+h2), (0, 0, 255), 2)\n",
    "    cv2.rectangle(img, (x1,y1), (x1+w1,y1+h1), (0, 255, 0), 2)\n",
    "    \n",
    "    plt.subplot(1, 10, i+1)\n",
    "    plt.axis('off')\n",
    "    iou = computeIoU((x2, y2, w2, h2), (x1, y1, w1, h1))\n",
    "    plt.title('IoU: %.2f' % iou)\n",
    "    plt.imshow(img)\n",
    "\n",
    "plt.savefig('./iou-examples.png', dpi=300, bbox_inches='tight')\n",
    "plt.show()"
   ]
  },
  {
   "cell_type": "markdown",
   "id": "a9ab2741",
   "metadata": {},
   "source": [
    "## Intuitive Example\n"
   ]
  },
  {
   "cell_type": "code",
   "execution_count": 3,
   "id": "e00c7928",
   "metadata": {},
   "outputs": [
    {
     "data": {
      "image/png": "[encoded data removed]",
      "text/plain": [
       "<Figure size 432x288 with 1 Axes>"
      ]
     },
     "metadata": {
      "needs_background": "light"
     },
     "output_type": "display_data"
    }
   ],
   "source": [
    "field_size = 16\n",
    "\n",
    "img = np.ones((field_size, field_size, 3), dtype=\"uint8\") * 255\n",
    "\n",
    "# rect 1\n",
    "x1, y1, w1, h1 = 3, 3, 7, 7\n",
    "cv2.rectangle(img, (x1,y1), (x1+w1-1,y1+h1-1), (0, 255, 0), -1)\n",
    "\n",
    "# rect 2\n",
    "x2, y2, w2, h2 = 7, 7, 6, 6\n",
    "cv2.rectangle(img, (x2,y2), (x2+w2-1,y2+h2-1), (0, 0, 255), -1)\n",
    "\n",
    "# intersection\n",
    "x3, y3, w3, h3 = 7, 7, 3, 3\n",
    "cv2.rectangle(img, (x3,y3), (x3+w3-1,y3+h3-1), (255, 0, 0), -1)\n",
    "\n",
    "# plot image\n",
    "plt.imshow(img, interpolation=\"nearest\")\n",
    "plt.annotate(\"A\", (4, 2), color=\"black\", size=\"large\")\n",
    "plt.annotate(\"B\", (13, 10), color=\"black\", size=\"large\")\n",
    "ax = plt.gca()\n",
    "ax.set_xticks(np.arange(-.5, field_size, 1))\n",
    "ax.set_yticks(np.arange(-.5, field_size, 1))\n",
    "ax.set_xticklabels(np.arange(0, field_size+1, 1))\n",
    "ax.set_yticklabels(np.arange(0, field_size+1, 1))\n",
    "ax.grid(color='white', linestyle='-', linewidth=0.5)\n",
    "\n",
    "plt.savefig('./simple-example.png', dpi=300, bbox_inches='tight')\n",
    "\n",
    "plt.show()"
   ]
  },
  {
   "cell_type": "markdown",
   "id": "6ca30037",
   "metadata": {},
   "source": [
    "For a more intuitive understanding let's have a look at an example. In the picture below two rectangles A (green) and B (blue) are displayed. Rectangle A has a width and height of 7, while B has a width and height of 6 (both in pixels).\n",
    "\n",
    "The IoU can now be described as the area of overlap divided by the area of the union. So: $IoU = \\frac{A \\cap B}{A \\cup B}$.\n",
    "\n",
    "For our concrete example the intersecting area (red) is\n",
    "\n",
    "$$area(A \\cap B) = 3 \\cdot 3 = 9$$\n",
    "\n",
    "The area of A (green) is\n",
    "\n",
    "$$area(A) = 7 \\cdot 7 = 49$$\n",
    "\n",
    "and the area of B (blue) is\n",
    "\n",
    "$$area(B) = 6 \\cdot 6 = 36.$$\n",
    "\n",
    "The union of A and B can be computed as \n",
    "\n",
    "$$area(A \\cup B) = area(A) + area(B) - area(intersection) = 49 + 36 - 9 = 76.$$\n",
    "\n",
    "Now we can compute the Intersection over Union by dividing the intersection $(A \\cap B)$ through the union of A and B, which yields an IoU of\n",
    "\n",
    "$$IoU = \\frac{A \\cap B}{A \\cup B} = \\frac{9}{76} = 0.1184 \\approx 11.8\\%$$"
   ]
  },
  {
   "cell_type": "markdown",
   "id": "8f66533a",
   "metadata": {},
   "source": [
    "## Naive Implementation\n",
    "\n",
    "Now let's put everything what we've done so far in a function that get's two bounding boxes as input and returns the Intersection over Union. The bounding boxes have the form $(x, y, w, h)$, with $x$ and $y$ being the coordinates of the top-left corner, and $w$ and $h$ being the width and height of the box, respectively."
   ]
  },
  {
   "cell_type": "code",
   "execution_count": 4,
   "id": "4759093a",
   "metadata": {},
   "outputs": [],
   "source": [
    "def computeIoU(bbox1, bbox2):\n",
    "    (x1, y1, w1, h1) = bbox1\n",
    "    (x2, y2, w2, h2) = bbox2\n",
    "    \n",
    "    # Firstly, we calculate the areas of each box\n",
    "    # by multiplying its height with its width.\n",
    "    area1 = w1 * h1\n",
    "    area2 = w2 * h2\n",
    "    \n",
    "    # Secondly, we determine the intersection\n",
    "    # rectangle. For that, we try to find the\n",
    "    # corner points (top-left and bottom-right)\n",
    "    # of the intersection rectangle.\n",
    "    inter_x1 = max(x1, x2)\n",
    "    inter_y1 = max(y1, y2)\n",
    "    inter_x2 = min(x1 + w1, x2 + w2)\n",
    "    inter_y2 = min(y1 + h1, y2 + h2)\n",
    "    \n",
    "    # From the two corner points we compute the\n",
    "    # width and height.\n",
    "    inter_w = max(0, inter_x2 - inter_x1) \n",
    "    inter_h = max(0, inter_y2 - inter_y1)\n",
    "        \n",
    "    # If the width or height are equal or less than zero\n",
    "    # the boxes do not overlap. Hence, the IoU equals 0.\n",
    "    if inter_w <= 0 or inter_h <= 0:\n",
    "        return 0.0\n",
    "    # Otherwise, return the IoU (intersection area divided\n",
    "    # by the union)\n",
    "    else:\n",
    "        inter_area = inter_w * inter_h\n",
    "        return inter_area / float(area1 + area2 - inter_area)"
   ]
  },
  {
   "cell_type": "markdown",
   "id": "2b5f37a3",
   "metadata": {},
   "source": [
    "Let's compute the IoU for a few examples:"
   ]
  },
  {
   "cell_type": "code",
   "execution_count": 5,
   "id": "d68da559",
   "metadata": {},
   "outputs": [
    {
     "name": "stdout",
     "output_type": "stream",
     "text": [
      "IoU Example: 0.1184\n",
      "IoU Congruent: 1.0000\n",
      "IoU non Overlapping: 0.0000\n"
     ]
    }
   ],
   "source": [
    "# example from above\n",
    "iou = computeIoU((3, 3, 7, 7), (7, 7, 6, 6))\n",
    "print(\"IoU Example: %.4f\" % iou)\n",
    "\n",
    "# congruent bounding boxes\n",
    "iou = computeIoU((3, 4, 10, 10), (3, 4, 10, 10))\n",
    "print(\"IoU Congruent: %.4f\" % iou)\n",
    "\n",
    "# non overlapping bounding boxes\n",
    "iou = computeIoU((2, 2, 6, 6), (10, 10, 5, 5))\n",
    "print(\"IoU non Overlapping: %.4f\" % iou)"
   ]
  },
  {
   "cell_type": "code",
   "execution_count": 6,
   "id": "c6277739",
   "metadata": {},
   "outputs": [
    {
     "data": {
      "text/plain": [
       "' Output\\nIoU Example: 0.1184\\nIoU Congruent: 1.0000\\nIoU non Overlapping: 0.0000\\n'"
      ]
     },
     "execution_count": 6,
     "metadata": {},
     "output_type": "execute_result"
    }
   ],
   "source": [
    "\"\"\" Output\n",
    "IoU Example: 0.1184\n",
    "IoU Congruent: 1.0000\n",
    "IoU non Overlapping: 0.0000\n",
    "\"\"\""
   ]
  },
  {
   "cell_type": "markdown",
   "id": "7a303b06",
   "metadata": {},
   "source": [
    "Perfect, the function works as expected. ;)"
   ]
  },
  {
   "cell_type": "markdown",
   "id": "a3b14d92",
   "metadata": {},
   "source": [
    "## IoU for Tensorflow\n",
    "\n",
    "In machine learning it is common to measure the accuracy for a whole batch and not only for a single example. Hence, we need another function that can compute the Intersection over Union for a batch, in order to use it as a metric in Tensorflow. The function expects two arrays of bounding boxes (ground truth & predicted), each with the dimension $(n, 4)$ with $n$ being the batch-size."
   ]
  },
  {
   "cell_type": "markdown",
   "id": "33a10d73",
   "metadata": {},
   "source": [
    "#### Naive Implementation\n",
    "\n",
    "For the naive implementation we just iterate through all samples of the batch, compute the IoU with our function, and append it to an array."
   ]
  },
  {
   "cell_type": "code",
   "execution_count": 7,
   "id": "f54a649b",
   "metadata": {},
   "outputs": [],
   "source": [
    "def IoU_naive(y_true, y_pred):\n",
    "    batch_size = y_true.shape[0]\n",
    "    \n",
    "    # array to store all IoU values\n",
    "    all_IoUs = []\n",
    "    for i in range(batch_size):\n",
    "        \n",
    "        # compute IoU with previously defined function\n",
    "        iou = computeIoU(y_true[i], y_pred[i])\n",
    "        \n",
    "        # and append it to the array\n",
    "        all_IoUs.append( iou )\n",
    "    \n",
    "    return np.asarray(all_IoUs)"
   ]
  },
  {
   "cell_type": "markdown",
   "id": "dc06401c",
   "metadata": {},
   "source": [
    "This naive implementation does the job. However, it is fairly slow..."
   ]
  },
  {
   "cell_type": "code",
   "execution_count": 8,
   "id": "079d7e00",
   "metadata": {},
   "outputs": [
    {
     "name": "stdout",
     "output_type": "stream",
     "text": [
      "Naive: 0.86247 seconds\n"
     ]
    }
   ],
   "source": [
    "# random bounding boxes\n",
    "y_true = np.random.randint(10, 255, (100000, 4))\n",
    "y_pred = np.random.randint(10, 255, (100000, 4))\n",
    "\n",
    "t0 = time.time()\n",
    "_ = IoU_naive(y_true, y_pred)\n",
    "print(\"Naive: %.5f seconds\" % (time.time() - t0))"
   ]
  },
  {
   "cell_type": "markdown",
   "id": "d6ea2000",
   "metadata": {},
   "source": [
    "For a batch-size of 100.000 samples, the function takes about 0.9 seconds. This can be done faster!"
   ]
  },
  {
   "cell_type": "markdown",
   "id": "0969b4c1",
   "metadata": {},
   "source": [
    "#### Tensorflow Implementation\n",
    "\n",
    "The more appropriate computation way in machine learning is to use vector operations, e.g. using tensorflow."
   ]
  },
  {
   "cell_type": "code",
   "execution_count": 9,
   "id": "c60dc55f",
   "metadata": {},
   "outputs": [],
   "source": [
    "def IoU(y_true, y_pred):\n",
    "    # cast type of bounding boxes to avoid running\n",
    "    # into a type-error in tensorflow\n",
    "    y_true = tf.cast(y_true, tf.float32)\n",
    "    y_pred = tf.cast(y_pred, tf.float32)\n",
    "    \n",
    "    # store all x's, y's, w's, and h's for the\n",
    "    # predicted and ground truth bounding boxes\n",
    "    x1, y1, w1, h1 = y_true[:, 0], y_true[:, 1], y_true[:, 2], y_true[:, 3]\n",
    "    x2, y2, w2, h2 = y_pred[:, 0], y_pred[:, 1], y_pred[:, 2], y_pred[:, 3]\n",
    "    \n",
    "    # compute bounding box areas\n",
    "    areas1 = tf.multiply( w1, h1 )\n",
    "    areas2 = tf.multiply( w2, h2 )\n",
    "    \n",
    "    # intersection rectangle coordinates (top-left, bottom-right)\n",
    "    inter_x1 = tf.maximum(x1, x2)\n",
    "    inter_y1 = tf.maximum(y1, y2)\n",
    "    inter_x2 = tf.minimum(x1 + w1, x2 + w2)\n",
    "    inter_y2 = tf.minimum(y1 + h1, y2 + h2)\n",
    "    \n",
    "    # intersection rectangles width, height, and finally area\n",
    "    inter_w = tf.maximum( 0.0, inter_x2 - inter_x1 )\n",
    "    inter_h = tf.maximum( 0.0, inter_y2 - inter_y1 )\n",
    "    inter_areas = inter_w * inter_h\n",
    "    \n",
    "    # compute IoUs for all bounding box pairs, if their width\n",
    "    # and height are greater than 0 (otherwise return 0 as IoU)\n",
    "    bool_vec = tf.math.logical_or(tf.math.less_equal(inter_w, 0),\n",
    "                                tf.math.less_equal(inter_h, 0))\n",
    "    ious = tf.where(bool_vec, tf.cast(0, tf.float32),\n",
    "                    inter_areas / (areas1 + areas2 - inter_areas) )\n",
    "    \n",
    "    return ious"
   ]
  },
  {
   "cell_type": "code",
   "execution_count": 20,
   "id": "aca5d2d9",
   "metadata": {},
   "outputs": [
    {
     "name": "stdout",
     "output_type": "stream",
     "text": [
      "Tensorflow: 0.00600 seconds\n"
     ]
    }
   ],
   "source": [
    "# random bounding boxes\n",
    "y_true = np.random.randint(10, 255, (100000, 4))\n",
    "y_pred = np.random.randint(10, 255, (100000, 4))\n",
    "\n",
    "t0 = time.time()\n",
    "_ = IoU(y_true, y_pred)\n",
    "print(\"Tensorflow: %.5f seconds\" % (time.time() - t0))"
   ]
  },
  {
   "cell_type": "markdown",
   "id": "72e023ea",
   "metadata": {},
   "source": [
    "The Tensorflow implementation just took about 0.007 seconds. Much faster!\n",
    "\n",
    "For a better comparison, I plotted the computation time depending on the batch size in the figure below."
   ]
  },
  {
   "cell_type": "code",
   "execution_count": 11,
   "id": "c93e5116",
   "metadata": {},
   "outputs": [
    {
     "data": {
      "image/png": "[encoded data removed]",
      "text/plain": [
       "<Figure size 720x432 with 1 Axes>"
      ]
     },
     "metadata": {
      "needs_background": "light"
     },
     "output_type": "display_data"
    },
    {
     "name": "stdout",
     "output_type": "stream",
     "text": [
      "Wall time: 9.52 s\n"
     ]
    }
   ],
   "source": [
    "%%time\n",
    "linspace = np.linspace(0, 100000, 20, dtype=int)\n",
    "\n",
    "y_true = np.random.randint(10, 255, (np.max(linspace), 4))\n",
    "y_pred = np.random.randint(10, 255, (np.max(linspace), 4))\n",
    "\n",
    "results = {'slow': [], 'fast': []}\n",
    "for i in linspace:\n",
    "    t0 = time.time()\n",
    "    slow = IoU_naive(y_true[:i], y_pred[:i])\n",
    "    results['slow'].append(time.time() - t0)\n",
    "    \n",
    "    t0 = time.time()\n",
    "    fast = IoU(y_true[:i], y_pred[:i])\n",
    "    results['fast'].append(time.time() - t0)\n",
    "    \n",
    "plt.figure(figsize=(10,6))\n",
    "plt.plot(linspace, results['fast'], label=\"Tensorflow\")\n",
    "plt.plot(linspace, results['slow'], label=\"Naive\")\n",
    "plt.xlabel('Batch size'); plt.ylabel('Time')\n",
    "plt.legend()\n",
    "plt.savefig('comparison-naive-tf.png', dpi=300, bbox_inches='tight')\n",
    "plt.show()"
   ]
  },
  {
   "cell_type": "markdown",
   "id": "259ef3f6",
   "metadata": {},
   "source": [
    "Here one can see particularly well that with increasing $n$ the computation time increases linearly for the naive implementation. In contrast, the Tensorflow implementation just requires constant time."
   ]
  },
  {
   "cell_type": "markdown",
   "id": "104c856b",
   "metadata": {},
   "source": [
    "### Using the IoU as metric for the Tensorflow model\n",
    "\n",
    "The IoU function can now be used to evaluate an object localization model. For demonstration purposes, I created a simple toy dataset with rectangles displayed on neutral background (as described in this post)."
   ]
  },
  {
   "cell_type": "markdown",
   "id": "3127d097",
   "metadata": {},
   "source": [
    "### Dataset"
   ]
  },
  {
   "cell_type": "code",
   "execution_count": 12,
   "id": "8bc6ea33",
   "metadata": {},
   "outputs": [
    {
     "data": {
      "image/png": "[encoded data removed]",
      "text/plain": [
       "<Figure size 864x288 with 10 Axes>"
      ]
     },
     "metadata": {
      "needs_background": "light"
     },
     "output_type": "display_data"
    }
   ],
   "source": [
    "from sklearn.model_selection import train_test_split\n",
    "\n",
    "# dataset\n",
    "image_size = 64\n",
    "min_size = 12\n",
    "\n",
    "np.random.seed(2802)\n",
    "\n",
    "\"\"\" DATA GENERATION\"\"\"\n",
    "X, Y = [], []\n",
    "for sample in range(15000):\n",
    "    # create image\n",
    "    img = np.zeros((image_size, image_size, 1), dtype=\"uint8\")\n",
    "    \n",
    "    # get random x and y coordinate\n",
    "    x, y = np.random.randint(0, image_size - min_size, 2)\n",
    "    # get random width and height\n",
    "    w = np.random.randint(min_size, image_size - x)\n",
    "    h = np.random.randint(min_size, image_size - y)\n",
    "    \n",
    "    # assign target vector to sample\n",
    "    Y.append([x, y, w, h])\n",
    "\n",
    "    # draw rectangle on image\n",
    "    cv2.rectangle(img, (x,y), (x+w-1,y+h-1), 255, -1,\n",
    "                  lineType=cv2.LINE_AA)\n",
    "    X.append(img)\n",
    "\n",
    "X = np.asarray(X)\n",
    "Y = np.asarray(Y).astype(np.float32)\n",
    "\n",
    "\"\"\" VISUALIZATION \"\"\"\n",
    "plt.figure(figsize=(12, 4))\n",
    "for i in range(10):\n",
    "    plt.subplot(2, 5, i+1)\n",
    "    plt.imshow(X[i], \"gray\")\n",
    "    \n",
    "plt.savefig('./data-examples.png', dpi=300, bbox_inches='tight')\n",
    "plt.show()\n",
    "\n",
    "\"\"\" PREPROCESSING \"\"\"\n",
    "# normalize and center image data\n",
    "X = (X.astype(\"float32\") / 255 ) - 0.5\n",
    "\n",
    "# split into training, validation, and test set\n",
    "X_train_val, X_test, Y_train_val, Y_test = train_test_split(X, Y, test_size=0.2)\n",
    "X_train, X_val, Y_train, Y_val = train_test_split(X_train_val, Y_train_val, \n",
    "                                                  test_size=0.2, random_state=29)"
   ]
  },
  {
   "cell_type": "markdown",
   "id": "e5d80fe1",
   "metadata": {},
   "source": [
    "### Model\n",
    "The model is kept simple, with alternating convolutional and max-pooling layers. The most important part comes at the compilation of the model, where you can pass the IoU function as metric."
   ]
  },
  {
   "cell_type": "code",
   "execution_count": 13,
   "id": "b2601087",
   "metadata": {},
   "outputs": [],
   "source": [
    "from tensorflow.keras.models import Sequential\n",
    "from tensorflow.keras.layers import Conv2D, MaxPooling2D, Dense\n",
    "from tensorflow.keras.layers import Flatten, Dropout, Activation\n",
    "\n",
    "model = Sequential([\n",
    "    Conv2D( 16, kernel_size=3, activation='relu',\n",
    "           input_shape=(image_size, image_size, 1)),\n",
    "    Conv2D( 16, kernel_size=3, activation='relu'),\n",
    "    MaxPooling2D( pool_size=2),\n",
    "    Conv2D( 32, kernel_size=3, activation='relu'),\n",
    "    Conv2D( 32, kernel_size=3, activation='relu'),\n",
    "    MaxPooling2D( pool_size=2),\n",
    "    Flatten(),\n",
    "    Dropout(0.5),\n",
    "    Dense(4)\n",
    "])\n",
    "\n",
    "model.compile(\"adam\", loss='mse', metrics=IoU)"
   ]
  },
  {
   "cell_type": "markdown",
   "id": "e78eeb8d",
   "metadata": {},
   "source": [
    "#### Training the model\n",
    "The Intersection over Union is now used as metric and during training, the training and validation IoU is displayed. "
   ]
  },
  {
   "cell_type": "code",
   "execution_count": 14,
   "id": "621c76d2",
   "metadata": {},
   "outputs": [
    {
     "name": "stdout",
     "output_type": "stream",
     "text": [
      "Epoch 1/25\n",
      "300/300 [==============================] - 7s 14ms/step - loss: 101.0867 - IoU: 0.3906 - val_loss: 39.8459 - val_IoU: 0.5157\n",
      "Epoch 2/25\n",
      "300/300 [==============================] - 4s 14ms/step - loss: 21.8482 - IoU: 0.5650 - val_loss: 8.1091 - val_IoU: 0.6994\n",
      "Epoch 3/25\n",
      "300/300 [==============================] - 4s 14ms/step - loss: 11.4204 - IoU: 0.6299 - val_loss: 4.7726 - val_IoU: 0.7522\n",
      "Epoch 4/25\n",
      "300/300 [==============================] - 4s 14ms/step - loss: 8.8642 - IoU: 0.6574 - val_loss: 3.5340 - val_IoU: 0.7664\n",
      "Epoch 5/25\n",
      "300/300 [==============================] - 4s 13ms/step - loss: 7.8186 - IoU: 0.6692 - val_loss: 2.9940 - val_IoU: 0.7831\n",
      "Epoch 6/25\n",
      "300/300 [==============================] - 4s 14ms/step - loss: 7.0919 - IoU: 0.6793 - val_loss: 2.5761 - val_IoU: 0.7975\n",
      "Epoch 7/25\n",
      "300/300 [==============================] - 4s 14ms/step - loss: 6.3143 - IoU: 0.6924 - val_loss: 2.3728 - val_IoU: 0.7993\n",
      "Epoch 8/25\n",
      "300/300 [==============================] - 4s 14ms/step - loss: 5.8148 - IoU: 0.6981 - val_loss: 2.3879 - val_IoU: 0.8022\n",
      "Epoch 9/25\n",
      "300/300 [==============================] - 4s 14ms/step - loss: 5.2531 - IoU: 0.7096 - val_loss: 1.8675 - val_IoU: 0.8236\n",
      "Epoch 10/25\n",
      "300/300 [==============================] - 4s 14ms/step - loss: 4.7576 - IoU: 0.7200 - val_loss: 1.6804 - val_IoU: 0.8348\n",
      "Epoch 11/25\n",
      "300/300 [==============================] - 4s 14ms/step - loss: 4.2910 - IoU: 0.7330 - val_loss: 1.5499 - val_IoU: 0.8190\n",
      "Epoch 12/25\n",
      "300/300 [==============================] - 4s 14ms/step - loss: 4.2332 - IoU: 0.7290 - val_loss: 1.6887 - val_IoU: 0.8106\n",
      "Epoch 13/25\n",
      "300/300 [==============================] - 4s 14ms/step - loss: 3.8722 - IoU: 0.7392 - val_loss: 1.1591 - val_IoU: 0.8625\n",
      "Epoch 14/25\n",
      "300/300 [==============================] - 4s 14ms/step - loss: 3.8233 - IoU: 0.7412 - val_loss: 2.6985 - val_IoU: 0.7960\n",
      "Epoch 15/25\n",
      "300/300 [==============================] - 4s 13ms/step - loss: 3.8349 - IoU: 0.7373 - val_loss: 0.9640 - val_IoU: 0.8627\n",
      "Epoch 16/25\n",
      "300/300 [==============================] - 4s 13ms/step - loss: 3.5838 - IoU: 0.7416 - val_loss: 1.1878 - val_IoU: 0.8346\n",
      "Epoch 17/25\n",
      "300/300 [==============================] - 4s 13ms/step - loss: 3.5178 - IoU: 0.7436 - val_loss: 1.2094 - val_IoU: 0.8507\n",
      "Epoch 18/25\n",
      "300/300 [==============================] - 4s 14ms/step - loss: 3.4110 - IoU: 0.7493 - val_loss: 0.8788 - val_IoU: 0.8695\n",
      "Epoch 19/25\n",
      "300/300 [==============================] - 4s 14ms/step - loss: 3.2882 - IoU: 0.7500 - val_loss: 0.8870 - val_IoU: 0.8736\n",
      "Epoch 20/25\n",
      "300/300 [==============================] - 4s 14ms/step - loss: 3.2325 - IoU: 0.7518 - val_loss: 0.9580 - val_IoU: 0.8601\n",
      "Epoch 21/25\n",
      "300/300 [==============================] - 4s 14ms/step - loss: 3.1579 - IoU: 0.7538 - val_loss: 0.9547 - val_IoU: 0.8628\n",
      "Epoch 22/25\n",
      "300/300 [==============================] - 4s 14ms/step - loss: 3.2560 - IoU: 0.7491 - val_loss: 1.2986 - val_IoU: 0.7954\n",
      "Epoch 23/25\n",
      "300/300 [==============================] - 4s 14ms/step - loss: 3.2236 - IoU: 0.7526 - val_loss: 0.8867 - val_IoU: 0.8677\n",
      "Epoch 24/25\n",
      "300/300 [==============================] - 4s 14ms/step - loss: 3.0666 - IoU: 0.7576 - val_loss: 1.2243 - val_IoU: 0.8053\n",
      "Epoch 25/25\n",
      "300/300 [==============================] - 4s 14ms/step - loss: 3.1112 - IoU: 0.7573 - val_loss: 1.2586 - val_IoU: 0.8584\n",
      "Wall time: 1min 45s\n"
     ]
    }
   ],
   "source": [
    "%%time\n",
    "\n",
    "epochs = 25\n",
    "history = model.fit(X_train, Y_train,\n",
    "                    epochs=epochs,\n",
    "                    validation_data=(X_val, Y_val))"
   ]
  },
  {
   "cell_type": "markdown",
   "id": "6fb57f5a",
   "metadata": {},
   "source": [
    "#### Results"
   ]
  },
  {
   "cell_type": "code",
   "execution_count": 15,
   "id": "22a54c58",
   "metadata": {},
   "outputs": [
    {
     "data": {
      "image/png": "[encoded data removed]",
      "text/plain": [
       "<Figure size 864x432 with 1 Axes>"
      ]
     },
     "metadata": {
      "needs_background": "light"
     },
     "output_type": "display_data"
    }
   ],
   "source": [
    "plt.figure(figsize=(12,6))\n",
    "\n",
    "plt.plot(np.arange(epochs), history.history['IoU'], label='Training')\n",
    "plt.plot(np.arange(epochs), history.history['val_IoU'], label='Validation')\n",
    "plt.title(\"IoU\"); plt.legend()\n",
    "\n",
    "plt.savefig('model-results.png', dpi=300, bbox_inches='tight')\n",
    "plt.show()"
   ]
  },
  {
   "cell_type": "code",
   "execution_count": 16,
   "id": "743594b6",
   "metadata": {},
   "outputs": [
    {
     "name": "stdout",
     "output_type": "stream",
     "text": [
      "mean IoU: 86.26%\n"
     ]
    }
   ],
   "source": [
    "# predict test set\n",
    "preds = model.predict(X_test)\n",
    "\n",
    "# compute mean IoU\n",
    "print(\"mean IoU: %.2f%%\" % (np.mean(IoU(Y_test, preds)) * 100))"
   ]
  },
  {
   "cell_type": "code",
   "execution_count": 17,
   "id": "09289126",
   "metadata": {},
   "outputs": [
    {
     "data": {
      "image/png": "[encoded data removed]",
      "text/plain": [
       "<Figure size 1152x504 with 10 Axes>"
      ]
     },
     "metadata": {
      "needs_background": "light"
     },
     "output_type": "display_data"
    }
   ],
   "source": [
    "import matplotlib.patches as patches\n",
    "\n",
    "plt.figure(figsize=(16, 7))\n",
    "for i in range(10):\n",
    "    ax = plt.subplot(2, 5, i+1)\n",
    "    ax.imshow(X_test[i], \"gray\")\n",
    "    x, y, w, h = preds[i]\n",
    "    rect_pred = patches.Rectangle((x-0.5, y-0.5), w, h,\n",
    "                                  linewidth=2, edgecolor=\"r\", facecolor='none')\n",
    "    ax.add_patch(rect_pred)\n",
    "    plt.title(\"IoU: %.2f%%\" % (computeIoU(preds[i], Y_test[i])*100), fontsize=10)\n",
    "\n",
    "plt.savefig('./IoU-regression-example.png', dpi=300, bbox_inches='tight')\n",
    "plt.show()"
   ]
  },
  {
   "cell_type": "markdown",
   "id": "85d480f2",
   "metadata": {},
   "source": [
    "---"
   ]
  },
  {
   "cell_type": "code",
   "execution_count": 18,
   "id": "7ed2d2da",
   "metadata": {},
   "outputs": [
    {
     "name": "stdout",
     "output_type": "stream",
     "text": [
      "[0.         0.46376812 0.48262033 1.        ]\n",
      "[0.         0.46376812 0.48262032 1.        ]\n"
     ]
    }
   ],
   "source": [
    "y_true = np.array([[1.0, 1.0, 8.0, 8.0],\n",
    "                   [4.0, 4.0, 22.0, 22.0],\n",
    "                   [2.0, 2.0, 22.0, 22.0],\n",
    "                   [2.0, 2.0, 22.0, 22.0]], dtype=\"float64\")\n",
    "y_pred = np.array([[11.0, 11.0, 9.0, 9.0],\n",
    "                   [2.0, 2.0, 18.0, 18.0],\n",
    "                   [5.0, 5.0, 25.0, 25.0],\n",
    "                   [2.0, 2.0, 22.0, 22.0]], dtype=\"float64\")\n",
    "\n",
    "print( np.array( IoU(y_true, y_pred) ))\n",
    "print( IoU_naive(y_true, y_pred) )"
   ]
  },
  {
   "cell_type": "code",
   "execution_count": 19,
   "id": "5bf27dc4",
   "metadata": {},
   "outputs": [
    {
     "data": {
      "image/png": "[encoded data removed]",
      "text/plain": [
       "<Figure size 432x288 with 1 Axes>"
      ]
     },
     "metadata": {
      "needs_background": "light"
     },
     "output_type": "display_data"
    },
    {
     "name": "stdout",
     "output_type": "stream",
     "text": [
      "Wall time: 10.8 s\n"
     ]
    }
   ],
   "source": [
    "%%time\n",
    "logspace = np.logspace(2, 6, 5, dtype=int)\n",
    "\n",
    "y_true = np.random.randint(10, 255, (np.max(logspace), 4))\n",
    "y_pred = np.random.randint(10, 255, (np.max(logspace), 4))\n",
    "\n",
    "results = {'slow': [], 'fast': []}\n",
    "for i in logspace:    \n",
    "    t0 = time.time()\n",
    "    _ = IoU_naive(y_true[:i], y_pred[:i])\n",
    "    results['slow'].append(time.time() - t0)\n",
    "    \n",
    "    t0 = time.time()\n",
    "    _ = IoU(y_true[:i], y_pred[:i])\n",
    "    results['fast'].append(time.time() - t0)\n",
    "    \n",
    "plt.xscale('log')\n",
    "plt.plot(logspace, results['fast'], label=\"Tensorflow\")\n",
    "plt.plot(logspace, results['slow'], label=\"Naive\")\n",
    "plt.legend(); plt.show()"
   ]
  },
  {
   "cell_type": "markdown",
   "id": "f415499d",
   "metadata": {},
   "source": [
    "---"
   ]
  }
 ],
 "metadata": {
  "kernelspec": {
   "display_name": "Python 3 (ipykernel)",
   "language": "python",
   "name": "python3"
  },
  "language_info": {
   "codemirror_mode": {
    "name": "ipython",
    "version": 3
   },
   "file_extension": ".py",
   "mimetype": "text/x-python",
   "name": "python",
   "nbconvert_exporter": "python",
   "pygments_lexer": "ipython3",
   "version": "3.9.7"
  }
 },
 "nbformat": 4,
 "nbformat_minor": 5
}
